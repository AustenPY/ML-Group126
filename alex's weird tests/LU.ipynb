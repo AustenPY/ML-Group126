{
 "cells": [
  {
   "cell_type": "code",
   "execution_count": 2,
   "metadata": {},
   "outputs": [],
   "source": [
    "import sympy as sym\n",
    "import numpy as np\n",
    "from IPython.display import display, Math\n",
    "sym.init_printing()"
   ]
  },
  {
   "cell_type": "code",
   "execution_count": null,
   "metadata": {},
   "outputs": [],
   "source": []
  },
  {
   "cell_type": "code",
   "execution_count": 3,
   "metadata": {},
   "outputs": [
    {
     "data": {
      "text/latex": [
       "$\\displaystyle \\left[\\begin{matrix}1 & 2\\\\3 & 4\\end{matrix}\\right]$"
      ],
      "text/plain": [
       "⎡1  2⎤\n",
       "⎢    ⎥\n",
       "⎣3  4⎦"
      ]
     },
     "metadata": {},
     "output_type": "display_data"
    },
    {
     "data": {
      "image/png": "[encoded data removed]",
      "text/latex": [
       "$\\displaystyle \\left[ \\right]$"
      ],
      "text/plain": [
       "[]"
      ]
     },
     "metadata": {},
     "output_type": "display_data"
    },
    {
     "data": {
      "text/latex": [
       "$\\displaystyle \\text{When converting matrix A:} \\left[\\begin{matrix}1 & 2\\\\3 & 4\\end{matrix}\\right] \\text{to L and U} \\quad \\rightarrow \\quad L = \\left[\\begin{matrix}1 & 2\\\\0 & -2\\end{matrix}\\right] \\text{ and } U = \\left[ \\right]$"
      ],
      "text/plain": [
       "<IPython.core.display.Math object>"
      ]
     },
     "metadata": {},
     "output_type": "display_data"
    }
   ],
   "source": [
    "matrix = sym.Matrix([[1,2],[3,4]])\n",
    "display(matrix)\n",
    "\n",
    "P,L,U = matrix.LUdecomposition()\n",
    "\n",
    "display(U)\n",
    "display(Math(\"\\\\text{When converting matrix A:} %s \\\\text{to L and U} \\\\quad \\\\rightarrow \\\\quad L = %s \\\\text{ and } U = %s\"%(sym.latex(matrix), sym.latex(L), sym.latex(U))))\n"
   ]
  },
  {
   "cell_type": "code",
   "execution_count": 4,
   "metadata": {},
   "outputs": [
    {
     "data": {
      "text/latex": [
       "$\\displaystyle \\left[\\begin{matrix}1 & 4\\\\3 & 9\\end{matrix}\\right]$"
      ],
      "text/plain": [
       "⎡1  4⎤\n",
       "⎢    ⎥\n",
       "⎣3  9⎦"
      ]
     },
     "metadata": {},
     "output_type": "display_data"
    },
    {
     "data": {
      "image/png": "[encoded data removed]",
      "text/latex": [
       "$\\displaystyle -3$"
      ],
      "text/plain": [
       "-3"
      ]
     },
     "metadata": {},
     "output_type": "display_data"
    },
    {
     "name": "stdout",
     "output_type": "stream",
     "text": [
      "Matrix([[1, 4], [3, 9]])\n",
      "1\n",
      "4\n",
      "3\n",
      "9\n"
     ]
    }
   ],
   "source": [
    "A = np.array([[1,4],[3,9]])\n",
    "A = sym.sympify(A)\n",
    "A = sym.Matrix(A)\n",
    "\n",
    "\n",
    "display(A)\n",
    "display(sym.det(A))\n",
    "\n",
    "print(A)\n",
    "\n",
    "for x in A:\n",
    "    print(x)"
   ]
  },
  {
   "cell_type": "code",
   "execution_count": 5,
   "metadata": {},
   "outputs": [
    {
     "data": {
      "text/latex": [
       "$\\displaystyle \\left[\\begin{matrix}4 & 5 & -8\\\\1 & 0 & 2\\\\7 & 3 & 6\\end{matrix}\\right]$"
      ],
      "text/plain": [
       "⎡4  5  -8⎤\n",
       "⎢        ⎥\n",
       "⎢1  0  2 ⎥\n",
       "⎢        ⎥\n",
       "⎣7  3  6 ⎦"
      ]
     },
     "metadata": {},
     "output_type": "display_data"
    },
    {
     "data": {
      "image/png": "[encoded data removed]",
      "text/latex": [
       "$\\displaystyle -8$"
      ],
      "text/plain": [
       "-8"
      ]
     },
     "metadata": {},
     "output_type": "display_data"
    }
   ],
   "source": [
    "matrix = sym.Matrix([[4,5,-8], [1,0,2], [7,3,6]])\n",
    "\n",
    "display(matrix)\n",
    "display(sym.det(matrix))"
   ]
  },
  {
   "cell_type": "code",
   "execution_count": 6,
   "metadata": {},
   "outputs": [
    {
     "data": {
      "text/latex": [
       "$\\displaystyle \\left[\\begin{matrix}1 & 8 & 6 & -2\\\\3 & 6 & 15 & 2\\\\14 & -5 & 0 & 2\\\\7 & -7 & 7 & 2\\end{matrix}\\right]$"
      ],
      "text/plain": [
       "⎡1   8   6   -2⎤\n",
       "⎢              ⎥\n",
       "⎢3   6   15  2 ⎥\n",
       "⎢              ⎥\n",
       "⎢14  -5  0   2 ⎥\n",
       "⎢              ⎥\n",
       "⎣7   -7  7   2 ⎦"
      ]
     },
     "metadata": {},
     "output_type": "display_data"
    },
    {
     "data": {
      "image/png": "[encoded data removed]",
      "text/latex": [
       "$\\displaystyle -4230$"
      ],
      "text/plain": [
       "-4230"
      ]
     },
     "metadata": {},
     "output_type": "display_data"
    }
   ],
   "source": [
    "bigger_matrix = sym.Matrix([[1,8,6,-2], [3,6, 15, 2], [14,-5, 0, 2], [7, -7, 7, 2]])\n",
    "display(bigger_matrix)\n",
    "\n",
    "display(sym.det(bigger_matrix))"
   ]
  },
  {
   "cell_type": "code",
   "execution_count": 7,
   "metadata": {},
   "outputs": [
    {
     "data": {
      "text/latex": [
       "$\\displaystyle \\left[\\begin{matrix}4 & 0 & -7 & 3 & -5\\\\0 & 0 & 2 & 0 & 0\\\\7 & 3 & -6 & 4 & -8\\\\5 & 0 & 5 & 2 & -3\\\\0 & 0 & 9 & -1 & 2\\end{matrix}\\right]$"
      ],
      "text/plain": [
       "⎡4  0  -7  3   -5⎤\n",
       "⎢                ⎥\n",
       "⎢0  0  2   0   0 ⎥\n",
       "⎢                ⎥\n",
       "⎢7  3  -6  4   -8⎥\n",
       "⎢                ⎥\n",
       "⎢5  0  5   2   -3⎥\n",
       "⎢                ⎥\n",
       "⎣0  0  9   -1  2 ⎦"
      ]
     },
     "metadata": {},
     "output_type": "display_data"
    },
    {
     "data": {
      "image/png": "[encoded data removed]",
      "text/latex": [
       "$\\displaystyle 6$"
      ],
      "text/plain": [
       "6"
      ]
     },
     "metadata": {},
     "output_type": "display_data"
    }
   ],
   "source": [
    "not_nice = sym.Matrix([[4,0, -7, 3, -5], [0,0, 2, 0,0 ], [7,3,-6, 4, -8], [5,0,5,2,-3],[0,0,9,-1,2]])\n",
    "display(not_nice)\n",
    "display(sym.det(not_nice))"
   ]
  },
  {
   "cell_type": "code",
   "execution_count": 8,
   "metadata": {},
   "outputs": [
    {
     "data": {
      "text/latex": [
       "$\\displaystyle \\left[\\begin{matrix}2 & 4 & -1 & 5 & -2\\\\-4 & -5 & 3 & -8 & 1\\\\2 & -5 & -4 & 1 & 8\\\\-6 & 0 & 7 & -3 & 1\\end{matrix}\\right]$"
      ],
      "text/plain": [
       "⎡2   4   -1  5   -2⎤\n",
       "⎢                  ⎥\n",
       "⎢-4  -5  3   -8  1 ⎥\n",
       "⎢                  ⎥\n",
       "⎢2   -5  -4  1   8 ⎥\n",
       "⎢                  ⎥\n",
       "⎣-6  0   7   -3  1 ⎦"
      ]
     },
     "metadata": {},
     "output_type": "display_data"
    },
    {
     "data": {
      "text/latex": [
       "$\\displaystyle \\left[\\begin{matrix}1 & 0 & 0 & 0\\\\-2 & 1 & 0 & 0\\\\1 & -3 & 1 & 0\\\\-3 & 4 & 2 & 1\\end{matrix}\\right]$"
      ],
      "text/plain": [
       "⎡1   0   0  0⎤\n",
       "⎢            ⎥\n",
       "⎢-2  1   0  0⎥\n",
       "⎢            ⎥\n",
       "⎢1   -3  1  0⎥\n",
       "⎢            ⎥\n",
       "⎣-3  4   2  1⎦"
      ]
     },
     "metadata": {},
     "output_type": "display_data"
    },
    {
     "data": {
      "text/latex": [
       "$\\displaystyle \\left[\\begin{matrix}2 & 4 & -1 & 5 & -2\\\\0 & 3 & 1 & 2 & -3\\\\0 & 0 & 0 & 2 & 1\\\\0 & 0 & 0 & 0 & 5\\end{matrix}\\right]$"
      ],
      "text/plain": [
       "⎡2  4  -1  5  -2⎤\n",
       "⎢               ⎥\n",
       "⎢0  3  1   2  -3⎥\n",
       "⎢               ⎥\n",
       "⎢0  0  0   2  1 ⎥\n",
       "⎢               ⎥\n",
       "⎣0  0  0   0  5 ⎦"
      ]
     },
     "metadata": {},
     "output_type": "display_data"
    },
    {
     "data": {
      "image/png": "[encoded data removed]",
      "text/latex": [
       "$\\displaystyle \\left[ \\right]$"
      ],
      "text/plain": [
       "[]"
      ]
     },
     "metadata": {},
     "output_type": "display_data"
    }
   ],
   "source": [
    "A = sym.Matrix([[2,4,-1,5,-2],[-4,-5,3,-8,1],[2,-5,-4,1,8],[-6,0,7,-3,1]])\n",
    "display(A)\n",
    "\n",
    "L, U, P = A.LUdecomposition()\n",
    "\n",
    "display(L)\n",
    "display(U)\n",
    "display(P)"
   ]
  },
  {
   "cell_type": "code",
   "execution_count": 9,
   "metadata": {},
   "outputs": [
    {
     "data": {
      "text/latex": [
       "$\\displaystyle \\left[\\begin{matrix}1 & 0 & 0\\\\-1 & 1 & 0\\\\2 & -5 & 1\\end{matrix}\\right]$"
      ],
      "text/plain": [
       "⎡1   0   0⎤\n",
       "⎢         ⎥\n",
       "⎢-1  1   0⎥\n",
       "⎢         ⎥\n",
       "⎣2   -5  1⎦"
      ]
     },
     "metadata": {},
     "output_type": "display_data"
    },
    {
     "data": {
      "text/latex": [
       "$\\displaystyle \\left[\\begin{matrix}3 & -7 & -2\\\\0 & -2 & -1\\\\0 & 0 & -1\\end{matrix}\\right]$"
      ],
      "text/plain": [
       "⎡3  -7  -2⎤\n",
       "⎢         ⎥\n",
       "⎢0  -2  -1⎥\n",
       "⎢         ⎥\n",
       "⎣0  0   -1⎦"
      ]
     },
     "metadata": {},
     "output_type": "display_data"
    },
    {
     "data": {
      "text/latex": [
       "$\\displaystyle \\left[\\begin{matrix}-7\\\\5\\\\2\\end{matrix}\\right]$"
      ],
      "text/plain": [
       "⎡-7⎤\n",
       "⎢  ⎥\n",
       "⎢5 ⎥\n",
       "⎢  ⎥\n",
       "⎣2 ⎦"
      ]
     },
     "metadata": {},
     "output_type": "display_data"
    },
    {
     "data": {
      "text/latex": [
       "$\\displaystyle \\left[\\begin{matrix}-3.0\\\\-2\\\\6\\end{matrix}\\right]$"
      ],
      "text/plain": [
       "⎡-3.0⎤\n",
       "⎢    ⎥\n",
       "⎢ -2 ⎥\n",
       "⎢    ⎥\n",
       "⎣ 6  ⎦"
      ]
     },
     "metadata": {},
     "output_type": "display_data"
    },
    {
     "name": "stdout",
     "output_type": "stream",
     "text": [
      "13\n"
     ]
    }
   ],
   "source": [
    "A = sym.Matrix([[3,-7,-2], [-3, 5, 1], [6, -4, 0]])\n",
    "L, U, P = A.LUdecomposition()\n",
    "\n",
    "display(L)\n",
    "display(U)\n",
    "y = sym.Matrix([-7,-2,6])\n",
    "# display(np.array([-7,-2,6])*L)\n",
    "\n",
    "display(L * y)\n",
    "x = sym.Matrix([4+1/3, 4, -6])\n",
    "display(U * x)\n",
    "\n",
    "print(32-19)"
   ]
  },
  {
   "cell_type": "code",
   "execution_count": 10,
   "metadata": {},
   "outputs": [
    {
     "data": {
      "text/latex": [
       "$\\displaystyle \\left[\\begin{matrix}-7\\\\5\\\\2\\end{matrix}\\right]$"
      ],
      "text/plain": [
       "⎡-7⎤\n",
       "⎢  ⎥\n",
       "⎢5 ⎥\n",
       "⎢  ⎥\n",
       "⎣2 ⎦"
      ]
     },
     "metadata": {},
     "output_type": "display_data"
    },
    {
     "name": "stdout",
     "output_type": "stream",
     "text": [
      "9\n"
     ]
    }
   ],
   "source": [
    "A1 = np.matrix(A)\n",
    "x1 = np.array(x)\n",
    "\n",
    "a1 = np.array([[3,-7,-2], [-3, 5, 1], [6, -4, 0]])\n",
    "x1 = np.array([-7, 5, 2])\n",
    "\n",
    "np.linalg.solve(a1,x1)\n",
    "\n",
    "display(A1*sym.Matrix([3, 4, -6]))\n",
    "\n",
    "print(7*4-19)\n"
   ]
  },
  {
   "cell_type": "code",
   "execution_count": 14,
   "metadata": {},
   "outputs": [
    {
     "data": {
      "text/latex": [
       "$\\displaystyle \\left[\\begin{matrix}1 & -2 & -4 & -3\\\\2 & -7 & -7 & -6\\\\-1 & 2 & 6 & 4\\\\-4 & -1 & 9 & 8\\end{matrix}\\right]$"
      ],
      "text/plain": [
       "⎡1   -2  -4  -3⎤\n",
       "⎢              ⎥\n",
       "⎢2   -7  -7  -6⎥\n",
       "⎢              ⎥\n",
       "⎢-1  2   6   4 ⎥\n",
       "⎢              ⎥\n",
       "⎣-4  -1  9   8 ⎦"
      ]
     },
     "metadata": {},
     "output_type": "display_data"
    },
    {
     "data": {
      "text/latex": [
       "$\\displaystyle \\left[\\begin{matrix}1 & 7 & 0 & 3\\end{matrix}\\right]$"
      ],
      "text/plain": [
       "[1  7  0  3]"
      ]
     },
     "metadata": {},
     "output_type": "display_data"
    },
    {
     "data": {
      "text/plain": [
       "array([-2., -1.,  2., -3.])"
      ]
     },
     "execution_count": 14,
     "metadata": {},
     "output_type": "execute_result"
    }
   ],
   "source": [
    "A = np.matrix([[1,-2,-4,-3], [2,-7,-7, -6], [-1, 2, 6, 4], [-4, -1, 9, 8]])\n",
    "b = np.array([1,7,0,3])\n",
    "\n",
    "display(sym.sympify(A))\n",
    "display(sym.sympify(b))\n",
    "np.linalg.solve(A,b)"
   ]
  },
  {
   "cell_type": "code",
   "execution_count": 18,
   "metadata": {},
   "outputs": [
    {
     "data": {
      "text/latex": [
       "$\\displaystyle \\left[\\begin{matrix}1 & 0 & 0\\\\-1 & 1 & 0\\\\3 & \\frac{2}{3} & 1\\end{matrix}\\right]$"
      ],
      "text/plain": [
       "⎡1    0   0⎤\n",
       "⎢          ⎥\n",
       "⎢-1   1   0⎥\n",
       "⎢          ⎥\n",
       "⎣3   2/3  1⎦"
      ]
     },
     "metadata": {},
     "output_type": "display_data"
    },
    {
     "data": {
      "text/latex": [
       "$\\displaystyle \\left[\\begin{matrix}3 & -1 & 2\\\\0 & -3 & 12\\\\0 & 0 & -8\\end{matrix}\\right]$"
      ],
      "text/plain": [
       "⎡3  -1  2 ⎤\n",
       "⎢         ⎥\n",
       "⎢0  -3  12⎥\n",
       "⎢         ⎥\n",
       "⎣0  0   -8⎦"
      ]
     },
     "metadata": {},
     "output_type": "display_data"
    }
   ],
   "source": [
    "A = sym.Matrix([[3,-1, 2], [-3, -2, 10], [9, -5 ,6]])\n",
    "\n",
    "L, U, P = A.LUdecomposition()\n",
    "\n",
    "display(L)\n",
    "display(U)"
   ]
  },
  {
   "cell_type": "code",
   "execution_count": null,
   "metadata": {},
   "outputs": [],
   "source": [
    "A = sym.Matrix()"
   ]
  }
 ],
 "metadata": {
  "kernelspec": {
   "display_name": "new_environment",
   "language": "python",
   "name": "python3"
  },
  "language_info": {
   "codemirror_mode": {
    "name": "ipython",
    "version": 3
   },
   "file_extension": ".py",
   "mimetype": "text/x-python",
   "name": "python",
   "nbconvert_exporter": "python",
   "pygments_lexer": "ipython3",
   "version": "3.11.4"
  }
 },
 "nbformat": 4,
 "nbformat_minor": 2
}
