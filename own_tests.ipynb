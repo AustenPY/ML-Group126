{
 "cells": [
  {
   "cell_type": "code",
   "execution_count": 10,
   "metadata": {},
   "outputs": [
    {
     "name": "stdout",
     "output_type": "stream",
     "text": [
      "\u001b[1;31mSignature:\u001b[0m\n",
      "\u001b[0msym\u001b[0m\u001b[1;33m.\u001b[0m\u001b[0minit_session\u001b[0m\u001b[1;33m(\u001b[0m\u001b[1;33m\n",
      "\u001b[0m    \u001b[0mipython\u001b[0m\u001b[1;33m=\u001b[0m\u001b[1;32mNone\u001b[0m\u001b[1;33m,\u001b[0m\u001b[1;33m\n",
      "\u001b[0m    \u001b[0mpretty_print\u001b[0m\u001b[1;33m=\u001b[0m\u001b[1;32mTrue\u001b[0m\u001b[1;33m,\u001b[0m\u001b[1;33m\n",
      "\u001b[0m    \u001b[0morder\u001b[0m\u001b[1;33m=\u001b[0m\u001b[1;32mNone\u001b[0m\u001b[1;33m,\u001b[0m\u001b[1;33m\n",
      "\u001b[0m    \u001b[0muse_unicode\u001b[0m\u001b[1;33m=\u001b[0m\u001b[1;32mNone\u001b[0m\u001b[1;33m,\u001b[0m\u001b[1;33m\n",
      "\u001b[0m    \u001b[0muse_latex\u001b[0m\u001b[1;33m=\u001b[0m\u001b[1;32mNone\u001b[0m\u001b[1;33m,\u001b[0m\u001b[1;33m\n",
      "\u001b[0m    \u001b[0mquiet\u001b[0m\u001b[1;33m=\u001b[0m\u001b[1;32mFalse\u001b[0m\u001b[1;33m,\u001b[0m\u001b[1;33m\n",
      "\u001b[0m    \u001b[0mauto_symbols\u001b[0m\u001b[1;33m=\u001b[0m\u001b[1;32mFalse\u001b[0m\u001b[1;33m,\u001b[0m\u001b[1;33m\n",
      "\u001b[0m    \u001b[0mauto_int_to_Integer\u001b[0m\u001b[1;33m=\u001b[0m\u001b[1;32mFalse\u001b[0m\u001b[1;33m,\u001b[0m\u001b[1;33m\n",
      "\u001b[0m    \u001b[0mstr_printer\u001b[0m\u001b[1;33m=\u001b[0m\u001b[1;32mNone\u001b[0m\u001b[1;33m,\u001b[0m\u001b[1;33m\n",
      "\u001b[0m    \u001b[0mpretty_printer\u001b[0m\u001b[1;33m=\u001b[0m\u001b[1;32mNone\u001b[0m\u001b[1;33m,\u001b[0m\u001b[1;33m\n",
      "\u001b[0m    \u001b[0mlatex_printer\u001b[0m\u001b[1;33m=\u001b[0m\u001b[1;32mNone\u001b[0m\u001b[1;33m,\u001b[0m\u001b[1;33m\n",
      "\u001b[0m    \u001b[0margv\u001b[0m\u001b[1;33m=\u001b[0m\u001b[1;33m[\u001b[0m\u001b[1;33m]\u001b[0m\u001b[1;33m,\u001b[0m\u001b[1;33m\n",
      "\u001b[0m\u001b[1;33m)\u001b[0m\u001b[1;33m\u001b[0m\u001b[1;33m\u001b[0m\u001b[0m\n",
      "\u001b[1;31mDocstring:\u001b[0m\n",
      "Initialize an embedded IPython or Python session. The IPython session is\n",
      "initiated with the --pylab option, without the numpy imports, so that\n",
      "matplotlib plotting can be interactive.\n",
      "\n",
      "Parameters\n",
      "==========\n",
      "\n",
      "pretty_print: boolean\n",
      "    If True, use pretty_print to stringify;\n",
      "    if False, use sstrrepr to stringify.\n",
      "order: string or None\n",
      "    There are a few different settings for this parameter:\n",
      "    lex (default), which is lexographic order;\n",
      "    grlex, which is graded lexographic order;\n",
      "    grevlex, which is reversed graded lexographic order;\n",
      "    old, which is used for compatibility reasons and for long expressions;\n",
      "    None, which sets it to lex.\n",
      "use_unicode: boolean or None\n",
      "    If True, use unicode characters;\n",
      "    if False, do not use unicode characters.\n",
      "use_latex: boolean or None\n",
      "    If True, use latex rendering if IPython GUI's;\n",
      "    if False, do not use latex rendering.\n",
      "quiet: boolean\n",
      "    If True, init_session will not print messages regarding its status;\n",
      "    if False, init_session will print messages regarding its status.\n",
      "auto_symbols: boolean\n",
      "    If True, IPython will automatically create symbols for you.\n",
      "    If False, it will not.\n",
      "    The default is False.\n",
      "auto_int_to_Integer: boolean\n",
      "    If True, IPython will automatically wrap int literals with Integer, so\n",
      "    that things like 1/2 give Rational(1, 2).\n",
      "    If False, it will not.\n",
      "    The default is False.\n",
      "ipython: boolean or None\n",
      "    If True, printing will initialize for an IPython console;\n",
      "    if False, printing will initialize for a normal console;\n",
      "    The default is None, which automatically determines whether we are in\n",
      "    an ipython instance or not.\n",
      "str_printer: function, optional, default=None\n",
      "    A custom string printer function. This should mimic\n",
      "    sympy.printing.sstrrepr().\n",
      "pretty_printer: function, optional, default=None\n",
      "    A custom pretty printer. This should mimic sympy.printing.pretty().\n",
      "latex_printer: function, optional, default=None\n",
      "    A custom LaTeX printer. This should mimic sympy.printing.latex()\n",
      "    This should mimic sympy.printing.latex().\n",
      "argv: list of arguments for IPython\n",
      "    See sympy.bin.isympy for options that can be used to initialize IPython.\n",
      "\n",
      "See Also\n",
      "========\n",
      "\n",
      "sympy.interactive.printing.init_printing: for examples and the rest of the parameters.\n",
      "\n",
      "\n",
      "Examples\n",
      "========\n",
      "\n",
      ">>> from sympy import init_session, Symbol, sin, sqrt\n",
      ">>> sin(x) #doctest: +SKIP\n",
      "NameError: name 'x' is not defined\n",
      ">>> init_session() #doctest: +SKIP\n",
      ">>> sin(x) #doctest: +SKIP\n",
      "sin(x)\n",
      ">>> sqrt(5) #doctest: +SKIP\n",
      "  ___\n",
      "\\/ 5\n",
      ">>> init_session(pretty_print=False) #doctest: +SKIP\n",
      ">>> sqrt(5) #doctest: +SKIP\n",
      "sqrt(5)\n",
      ">>> y + x + y**2 + x**2 #doctest: +SKIP\n",
      "x**2 + x + y**2 + y\n",
      ">>> init_session(order='grlex') #doctest: +SKIP\n",
      ">>> y + x + y**2 + x**2 #doctest: +SKIP\n",
      "x**2 + y**2 + x + y\n",
      ">>> init_session(order='grevlex') #doctest: +SKIP\n",
      ">>> y * x**2 + x * y**2 #doctest: +SKIP\n",
      "x**2*y + x*y**2\n",
      ">>> init_session(order='old') #doctest: +SKIP\n",
      ">>> x**2 + y**2 + x + y #doctest: +SKIP\n",
      "x + y + x**2 + y**2\n",
      ">>> theta = Symbol('theta') #doctest: +SKIP\n",
      ">>> theta #doctest: +SKIP\n",
      "theta\n",
      ">>> init_session(use_unicode=True) #doctest: +SKIP\n",
      ">>> theta # doctest: +SKIP\n",
      "θ\n",
      "\u001b[1;31mFile:\u001b[0m      c:\\users\\alexd\\anaconda3\\envs\\new_environment\\lib\\site-packages\\sympy\\interactive\\session.py\n",
      "\u001b[1;31mType:\u001b[0m      function"
     ]
    }
   ],
   "source": [
    "import numpy as np\n",
    "from IPython.display import display, Math\n",
    "import sympy as sym\n",
    "\n",
    "sym.init_printing()\n",
    "sym.init_session?"
   ]
  },
  {
   "cell_type": "code",
   "execution_count": 9,
   "metadata": {},
   "outputs": [
    {
     "data": {
      "text/latex": [
       "$\\displaystyle \\text{the formula for f is:} \\quad f(x) = x^3.$"
      ],
      "text/plain": [
       "<IPython.core.display.Math object>"
      ]
     },
     "metadata": {},
     "output_type": "display_data"
    },
    {
     "data": {
      "text/latex": [
       "$\\displaystyle \\text{This matrix A is in } R_{3\\times 3}$"
      ],
      "text/plain": [
       "<IPython.core.display.Math object>"
      ]
     },
     "metadata": {},
     "output_type": "display_data"
    }
   ],
   "source": [
    "display(Math(\"\\\\text{the formula for f is:} \\\\quad f(x) = x^3.\"))\n",
    "display(Math(\"\\\\text{This matrix A is in } R_{3\\\\times 3}\"))"
   ]
  },
  {
   "cell_type": "markdown",
   "metadata": {},
   "source": [
    "$\\text{the formula for f is:} \\quad f(x) = x^3.$"
   ]
  }
 ],
 "metadata": {
  "kernelspec": {
   "display_name": "new_environment",
   "language": "python",
   "name": "python3"
  },
  "language_info": {
   "codemirror_mode": {
    "name": "ipython",
    "version": 3
   },
   "file_extension": ".py",
   "mimetype": "text/x-python",
   "name": "python",
   "nbconvert_exporter": "python",
   "pygments_lexer": "ipython3",
   "version": "3.11.4"
  }
 },
 "nbformat": 4,
 "nbformat_minor": 2
}
